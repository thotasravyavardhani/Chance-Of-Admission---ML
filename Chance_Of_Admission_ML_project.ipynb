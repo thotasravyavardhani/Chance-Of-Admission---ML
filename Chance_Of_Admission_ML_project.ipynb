{
  "nbformat": 4,
  "nbformat_minor": 0,
  "metadata": {
    "colab": {
      "private_outputs": true,
      "provenance": [],
      "cell_execution_strategy": "setup"
    },
    "kernelspec": {
      "name": "python3",
      "display_name": "Python 3"
    },
    "language_info": {
      "name": "python"
    }
  },
  "cells": [
    {
      "cell_type": "markdown",
      "source": [
        "Chance Of Admission Prediction - Machine learning Project\n",
        "\n",
        "Chance of Admission for Higher Studies\n",
        "Predict the chances of admission of a student to a Graduate program based on:\n",
        "\n",
        "1. GRE Scores (290 to 340)\n",
        "2. TOEFL Scores (92 to 120)\n",
        "3. University Rating (1 to 5)\n",
        "4. Statement of Purpose (1 to 5)\n",
        "5. Letter of Recommendation Strength (1 to 5)\n",
        "6. Undergraduate CGPA (6.8 to 9.92)\n",
        "7. Research Experience (0 or 1)\n",
        "8. Chance of Admit (0.34 to 0.97)"
      ],
      "metadata": {
        "id": "AJSq7E_oFKnj"
      }
    },
    {
      "cell_type": "markdown",
      "source": [],
      "metadata": {
        "id": "ZoyS_13IIj6Y"
      }
    },
    {
      "cell_type": "markdown",
      "source": [
        "Steps to create a ML model:\n",
        "\n",
        "1. import library\n",
        "2. import data\n",
        "3. Select X and Y (Dependent or o/p variable(Y) and Independent or i/p\n",
        "   variable(X)).\n",
        "4. Train Test Split: Splitting the data into Train data and Test data Train data is used to Train the ML model and test data is used to by taking random samples from dataset.\n",
        "5. Select model : based on Y- o/p variable type\n",
        "   if y = Continuous data - Regression models\n",
        "   if y = Categorical data (0 / 1,T/ F)- Classification models\n",
        "  \n",
        "  Regression models:\n",
        "\n",
        "    a. if y depends only on one of the other Variable (x)\n",
        "      then eq-> y=mx+c\n",
        "    b. if y depends on multiple then eq-> y=b0+b1x1+b2x2+....\n",
        "    use LINEAR REGRESSION MODEL Not only these their can be many other chance\n",
        "\n",
        "  Classification models:\n",
        "     \n",
        "     Clustering, Naive Buyes....\n",
        "6. Training or fitting the model\n",
        "7. Testing or predicting the model\n",
        "8. Accuracy check\n",
        "       "
      ],
      "metadata": {
        "id": "wzbGe3WjIkBL"
      }
    },
    {
      "cell_type": "code",
      "source": [
        "#step1 : Import library\n",
        "import pandas as pd"
      ],
      "metadata": {
        "id": "mGqLzRDeFtEy"
      },
      "execution_count": null,
      "outputs": []
    },
    {
      "cell_type": "code",
      "source": [
        "Admission = pd.read_csv('Admission Chance.csv')"
      ],
      "metadata": {
        "id": "iEbao4x9F_wC"
      },
      "execution_count": null,
      "outputs": []
    },
    {
      "cell_type": "code",
      "source": [
        "Admission # Here Admission is Dataframe of 400 rows/ Students data with 9 columns/ details"
      ],
      "metadata": {
        "id": "v1EWbytgGD3U"
      },
      "execution_count": null,
      "outputs": []
    },
    {
      "cell_type": "code",
      "source": [
        "Admission.head()#Top 5 elements"
      ],
      "metadata": {
        "id": "MNIC7-EcHMYC"
      },
      "execution_count": null,
      "outputs": []
    },
    {
      "cell_type": "code",
      "source": [
        "Admission.tail()#Last 5 elements"
      ],
      "metadata": {
        "id": "ap5vVUJwHchQ"
      },
      "execution_count": null,
      "outputs": []
    },
    {
      "cell_type": "code",
      "source": [
        "Admission.head(7) # For first n rows --> Dataset.head(n)"
      ],
      "metadata": {
        "id": "c5Oo0GdOHe-_"
      },
      "execution_count": null,
      "outputs": []
    },
    {
      "cell_type": "code",
      "source": [
        "Admission.tail(7) # For last n rows --> Dataset.tail(n)"
      ],
      "metadata": {
        "id": "oS3IulIhHsqy"
      },
      "execution_count": null,
      "outputs": []
    },
    {
      "cell_type": "code",
      "source": [
        "Admission.info()# info() - Explains about dataset no of rows colns, datatypes of columns and other..."
      ],
      "metadata": {
        "id": "eVXt9jGJHxFs"
      },
      "execution_count": null,
      "outputs": []
    },
    {
      "cell_type": "code",
      "source": [
        "Admission.describe() #D.describe()-- gives the Aggregate statistics for each coln, like...count,mean,std...."
      ],
      "metadata": {
        "id": "30mPPOVrH0iP"
      },
      "execution_count": null,
      "outputs": []
    },
    {
      "cell_type": "code",
      "source": [
        "Admission.columns #This row gives column names in the dataset"
      ],
      "metadata": {
        "id": "IVHnOmFFIH5q"
      },
      "execution_count": null,
      "outputs": []
    },
    {
      "cell_type": "code",
      "source": [
        "Admission.shape # Dimensions--(rows,columns) of dataframe or series will be given.\n",
        "#Note: if y=1, and dataset= Dataframe = (400,1) if y=1, and dataset= Series =(400,)"
      ],
      "metadata": {
        "id": "K9hcL8VgI4NI"
      },
      "execution_count": null,
      "outputs": []
    },
    {
      "cell_type": "code",
      "source": [
        "#splitting into X and Y\n",
        "X=Admission.drop(['Serial No','Chance of Admit '],axis=1)\n",
        "Y=Admission['Chance of Admit ']"
      ],
      "metadata": {
        "id": "6QJBIb-uI9oI"
      },
      "execution_count": null,
      "outputs": []
    },
    {
      "cell_type": "code",
      "source": [
        "#Splitting the data into Train data(X_Train,Y_Train) and Test data(X_test,Y_test)\n",
        "#Always Y_Test and y_Train are series only single coln o/p data\n",
        "from sklearn.model_selection import train_test_split"
      ],
      "metadata": {
        "id": "5nYMmQRVT66f"
      },
      "execution_count": null,
      "outputs": []
    },
    {
      "cell_type": "code",
      "source": [
        "X_Train,X_Test,Y_Train,Y_Test=train_test_split(X,Y,random_state=2529)# default ---> train_size=0.75 or 75%\n",
        "#default ---> test_size= 0.25 /25% (25% data taken from entire data set to test the model that data is given to model)\n",
        "#random_state ---> to take random sets\n"
      ],
      "metadata": {
        "id": "hRQ45-XEU_jK"
      },
      "execution_count": null,
      "outputs": []
    },
    {
      "cell_type": "code",
      "source": [
        "#To test size of these X_Train,X_Test,Y_Train,Y_Test\n",
        "X_Train.shape,X_Test.shape,Y_Train.shape,Y_Test.shape #Y_train and Y_Test are Series"
      ],
      "metadata": {
        "id": "wpdo5R81WOAb"
      },
      "execution_count": null,
      "outputs": []
    },
    {
      "cell_type": "code",
      "source": [
        "#Select the model - Here y= Chance Of Admit = label / y data is 'Continuous' - so Regression problem\n",
        "from sklearn.linear_model import LinearRegression\n",
        "model=LinearRegression()"
      ],
      "metadata": {
        "id": "uilAfa9MWHN1"
      },
      "execution_count": null,
      "outputs": []
    },
    {
      "cell_type": "code",
      "source": [
        "#To train model\n",
        "model.fit(X_Train,Y_Train)"
      ],
      "metadata": {
        "id": "wI59Xa_pWvM1"
      },
      "execution_count": null,
      "outputs": []
    },
    {
      "cell_type": "code",
      "source": [
        "model.intercept_# To fint intercept value for eq: y=b0+b1x1+b2x2+.... --> b1,b2,b3...=slope ,b0= intercept"
      ],
      "metadata": {
        "id": "b07G2-ScZyKi"
      },
      "execution_count": null,
      "outputs": []
    },
    {
      "cell_type": "code",
      "source": [
        "model.coef_#To find slopes/b1,b2,b3... from y=b0+b1x1+b2x2+..."
      ],
      "metadata": {
        "id": "YtYVIvd0Z191"
      },
      "execution_count": null,
      "outputs": []
    },
    {
      "cell_type": "code",
      "source": [
        "#To test or predict the model\n",
        "#To test we only give X_Test data to test and store the Y values from testing stored in Y_pred so that y matching those y_test values based onthat accuracy is calculated\n",
        "Y_Pred=model.predict(X_Test)"
      ],
      "metadata": {
        "id": "IvX6mBgFaRag"
      },
      "execution_count": null,
      "outputs": []
    },
    {
      "cell_type": "code",
      "source": [
        "#To find accuracy\n",
        "from sklearn.metrics import mean_absolute_percentage_error,mean_absolute_error,mean_squared_error\n",
        "mean_absolute_error(Y_Test,Y_Pred)# Accuracy for error is 0.4% so,To become Correct Accuracy is 100-0.4=99.6%"
      ],
      "metadata": {
        "id": "SABDMnVMadDV"
      },
      "execution_count": null,
      "outputs": []
    },
    {
      "cell_type": "code",
      "source": [
        "mean_absolute_percentage_error(Y_Test,Y_Pred) #Accuracy for error is 8% , To become Correct Accuracy is 100-8=92%"
      ],
      "metadata": {
        "id": "8cQGSEBibLG3"
      },
      "execution_count": null,
      "outputs": []
    },
    {
      "cell_type": "code",
      "source": [
        "mean_squared_error(Y_Test,Y_Pred)#Same as mean_absolute_error"
      ],
      "metadata": {
        "id": "yv3dxPQ0bugp"
      },
      "execution_count": null,
      "outputs": []
    },
    {
      "cell_type": "markdown",
      "source": [
        "Conclusion : Chance Of Admit = 94% so that their is 94% chance to get admission in the collage"
      ],
      "metadata": {
        "id": "cG9rIlUOce7m"
      }
    }
  ]
}